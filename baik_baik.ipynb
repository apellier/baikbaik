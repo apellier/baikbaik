{
 "cells": [
  {
   "cell_type": "markdown",
   "metadata": {},
   "source": [
    "# Baik Baik\n",
    "## A Dataviz About Bikes and Daily Life in Paris"
   ]
  },
  {
   "cell_type": "markdown",
   "metadata": {},
   "source": [
    "Lorem ipsum dolor sit amet, consectetur adipiscing elit. Donec in odio sem. Cras venenatis quam nec hendrerit laoreet. Suspendisse in odio et elit commodo aliquet. Sed libero turpis, rhoncus at finibus eu, vehicula ut est. Sed sem mi, aliquam id rhoncus quis, semper in nisi. Aliquam erat volutpat. Vestibulum auctor risus at ipsum pretium mollis. Donec non sapien et velit elementum placerat ut in orci.\n",
    "\n",
    "Pellentesque iaculis sagittis ligula. Donec aliquam sapien ac fringilla iaculis. Pellentesque imperdiet facilisis massa. Phasellus in enim eu mauris ornare egestas nec a augue. Duis sed tincidunt arcu, vitae cursus nisl. Ut at elit neque. Nunc tellus urna, consectetur non lectus at, ultricies maximus turpis. Proin sit amet odio vitae est luctus tincidunt. Curabitur semper enim nisi, ut aliquet sem condimentum non. "
   ]
  },
  {
   "cell_type": "markdown",
   "metadata": {},
   "source": [
    "### Context"
   ]
  },
  {
   "cell_type": "markdown",
   "metadata": {},
   "source": [
    "Lorem ipsum dolor sit amet, consectetur adipiscing elit. Donec in odio sem. Cras venenatis quam nec hendrerit laoreet. Suspendisse in odio et elit commodo aliquet. Sed libero turpis, rhoncus at finibus eu, vehicula ut est. Sed sem mi, aliquam id rhoncus quis, semper in nisi. Aliquam erat volutpat. Vestibulum auctor risus at ipsum pretium mollis. Donec non sapien et velit elementum placerat ut in orci.\n",
    "\n",
    "Pellentesque iaculis sagittis ligula. Donec aliquam sapien ac fringilla iaculis. Pellentesque imperdiet facilisis massa. Phasellus in enim eu mauris ornare egestas nec a augue. Duis sed tincidunt arcu, vitae cursus nisl. Ut at elit neque. Nunc tellus urna, consectetur non lectus at, ultricies maximus turpis. Proin sit amet odio vitae est luctus tincidunt. Curabitur semper enim nisi, ut aliquet sem condimentum non. "
   ]
  },
  {
   "cell_type": "markdown",
   "metadata": {},
   "source": [
    "### Getting into it"
   ]
  },
  {
   "cell_type": "markdown",
   "metadata": {},
   "source": [
    "#### The Data\n",
    "\n",
    "Lorem ipsum dolor sit amet, consectetur adipiscing elit. Donec in odio sem. Cras venenatis quam nec hendrerit laoreet. Suspendisse in odio et elit commodo aliquet. Sed libero turpis, rhoncus at finibus eu, vehicula ut est. Sed sem mi, aliquam id rhoncus quis, semper in nisi. Aliquam erat volutpat. Vestibulum auctor risus at ipsum pretium mollis. Donec non sapien et velit elementum placerat ut in orci.\n",
    "\n",
    "Pellentesque iaculis sagittis ligula. Donec aliquam sapien ac fringilla iaculis. Pellentesque imperdiet facilisis massa. Phasellus in enim eu mauris ornare egestas nec a augue. Duis sed tincidunt arcu, vitae cursus nisl. Ut at elit neque. Nunc tellus urna, consectetur non lectus at, ultricies maximus turpis. Proin sit amet odio vitae est luctus tincidunt. Curabitur semper enim nisi, ut aliquet sem condimentum non. "
   ]
  },
  {
   "cell_type": "markdown",
   "metadata": {},
   "source": [
    "#### Research Questions\n",
    "\n",
    "Lorem ipsum dolor sit amet, consectetur adipiscing elit. Donec in odio sem. Cras venenatis quam nec hendrerit laoreet. Suspendisse in odio et elit commodo aliquet. Sed libero turpis, rhoncus at finibus eu, vehicula ut est. Sed sem mi, aliquam id rhoncus quis, semper in nisi. Aliquam erat volutpat. Vestibulum auctor risus at ipsum pretium mollis. Donec non sapien et velit elementum placerat ut in orci.\n",
    "\n",
    "Pellentesque iaculis sagittis ligula. Donec aliquam sapien ac fringilla iaculis. Pellentesque imperdiet facilisis massa. Phasellus in enim eu mauris ornare egestas nec a augue. Duis sed tincidunt arcu, vitae cursus nisl. Ut at elit neque. Nunc tellus urna, consectetur non lectus at, ultricies maximus turpis. Proin sit amet odio vitae est luctus tincidunt. Curabitur semper enim nisi, ut aliquet sem condimentum non. "
   ]
  },
  {
   "cell_type": "markdown",
   "metadata": {},
   "source": [
    "#### How the Dataset Can Help Us\n",
    "\n",
    "Lorem ipsum dolor sit amet, consectetur adipiscing elit. Donec in odio sem. Cras venenatis quam nec hendrerit laoreet. Suspendisse in odio et elit commodo aliquet. Sed libero turpis, rhoncus at finibus eu, vehicula ut est. Sed sem mi, aliquam id rhoncus quis, semper in nisi. Aliquam erat volutpat. Vestibulum auctor risus at ipsum pretium mollis. Donec non sapien et velit elementum placerat ut in orci.\n",
    "\n",
    "Pellentesque iaculis sagittis ligula. Donec aliquam sapien ac fringilla iaculis. Pellentesque imperdiet facilisis massa. Phasellus in enim eu mauris ornare egestas nec a augue. Duis sed tincidunt arcu, vitae cursus nisl. Ut at elit neque. Nunc tellus urna, consectetur non lectus at, ultricies maximus turpis. Proin sit amet odio vitae est luctus tincidunt. Curabitur semper enim nisi, ut aliquet sem condimentum non. "
   ]
  },
  {
   "cell_type": "markdown",
   "metadata": {},
   "source": [
    "#### Cleaning the Data\n",
    "\n",
    "Lorem ipsum dolor sit amet, consectetur adipiscing elit. Donec in odio sem. Cras venenatis quam nec hendrerit laoreet. Suspendisse in odio et elit commodo aliquet. Sed libero turpis, rhoncus at finibus eu, vehicula ut est. Sed sem mi, aliquam id rhoncus quis, semper in nisi. Aliquam erat volutpat. Vestibulum auctor risus at ipsum pretium mollis. Donec non sapien et velit elementum placerat ut in orci.\n",
    "\n",
    "Pellentesque iaculis sagittis ligula. Donec aliquam sapien ac fringilla iaculis. Pellentesque imperdiet facilisis massa. Phasellus in enim eu mauris ornare egestas nec a augue. Duis sed tincidunt arcu, vitae cursus nisl. Ut at elit neque. Nunc tellus urna, consectetur non lectus at, ultricies maximus turpis. Proin sit amet odio vitae est luctus tincidunt. Curabitur semper enim nisi, ut aliquet sem condimentum non. "
   ]
  },
  {
   "cell_type": "markdown",
   "metadata": {},
   "source": [
    "### Diving into it"
   ]
  }
 ],
 "metadata": {
  "kernelspec": {
   "display_name": "Python 3",
   "language": "python",
   "name": "python3"
  },
  "language_info": {
   "codemirror_mode": {
    "name": "ipython",
    "version": 3
   },
   "file_extension": ".py",
   "mimetype": "text/x-python",
   "name": "python",
   "nbconvert_exporter": "python",
   "pygments_lexer": "ipython3",
   "version": "3.8.3"
  }
 },
 "nbformat": 4,
 "nbformat_minor": 4
}
