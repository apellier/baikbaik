{
 "cells": [
  {
   "cell_type": "markdown",
   "metadata": {},
   "source": [
    "# Baik Baik\n",
    "## A Dataviz About Bikes and Daily Life in Paris"
   ]
  },
  {
   "cell_type": "markdown",
   "metadata": {},
   "source": [
    "Lorem ipsum dolor sit amet, consectetur adipiscing elit. Donec in odio sem. Cras venenatis quam nec hendrerit laoreet. Suspendisse in odio et elit commodo aliquet. Sed libero turpis, rhoncus at finibus eu, vehicula ut est. Sed sem mi, aliquam id rhoncus quis, semper in nisi. Aliquam erat volutpat. Vestibulum auctor risus at ipsum pretium mollis. Donec non sapien et velit elementum placerat ut in orci.\n",
    "\n",
    "Pellentesque iaculis sagittis ligula. Donec aliquam sapien ac fringilla iaculis. Pellentesque imperdiet facilisis massa. Phasellus in enim eu mauris ornare egestas nec a augue. Duis sed tincidunt arcu, vitae cursus nisl. Ut at elit neque. Nunc tellus urna, consectetur non lectus at, ultricies maximus turpis. Proin sit amet odio vitae est luctus tincidunt. Curabitur semper enim nisi, ut aliquet sem condimentum non. "
   ]
  },
  {
   "cell_type": "markdown",
   "metadata": {},
   "source": [
    "### Context"
   ]
  },
  {
   "cell_type": "markdown",
   "metadata": {},
   "source": [
    "Passion for velib --> got the data"
   ]
  },
  {
   "cell_type": "markdown",
   "metadata": {},
   "source": [
    "### Getting into it"
   ]
  },
  {
   "cell_type": "markdown",
   "metadata": {},
   "source": [
    "#### The Data\n",
    "\n",
    "Let's see what this .csv file has into it.\n",
    "\n",
    "First, we have to install some useful libraries which are gonna help us later."
   ]
  },
  {
   "cell_type": "code",
   "execution_count": 1,
   "metadata": {},
   "outputs": [],
   "source": [
    "# For exploring and working with data\n",
    "import numpy as np\n",
    "import pandas as pd\n",
    "\n",
    "# For coping with date formats\n",
    "import datetime\n",
    "\n",
    "# For plotting and visualizing\n",
    "import matplotlib as plt \n",
    "import seaborn as sns"
   ]
  },
  {
   "cell_type": "markdown",
   "metadata": {},
   "source": [
    "Now we can read our CSV files and explore the data to give us some insights about what we can do."
   ]
  },
  {
   "cell_type": "code",
   "execution_count": 7,
   "metadata": {},
   "outputs": [
    {
     "data": {
      "text/plain": [
       "(412, 20)"
      ]
     },
     "execution_count": 7,
     "metadata": {},
     "output_type": "execute_result"
    }
   ],
   "source": [
    "data_velib = pd.read_csv(\"data/velib_data.csv\")\n",
    "\n",
    "# Returns a tuple as (number_of_lines, number_of_columns)\n",
    "data_velib.shape"
   ]
  },
  {
   "cell_type": "code",
   "execution_count": 8,
   "metadata": {},
   "outputs": [
    {
     "data": {
      "text/html": [
       "<div>\n",
       "<style scoped>\n",
       "    .dataframe tbody tr th:only-of-type {\n",
       "        vertical-align: middle;\n",
       "    }\n",
       "\n",
       "    .dataframe tbody tr th {\n",
       "        vertical-align: top;\n",
       "    }\n",
       "\n",
       "    .dataframe thead th {\n",
       "        text-align: right;\n",
       "    }\n",
       "</style>\n",
       "<table border=\"1\" class=\"dataframe\">\n",
       "  <thead>\n",
       "    <tr style=\"text-align: right;\">\n",
       "      <th></th>\n",
       "      <th>ID location</th>\n",
       "      <th>ID abonné</th>\n",
       "      <th>ID Abonnement</th>\n",
       "      <th>Type d'abonnement</th>\n",
       "      <th>ID Vélo</th>\n",
       "      <th>Type de vélo</th>\n",
       "      <th>Version vBox</th>\n",
       "      <th>Date/heure de début de la location</th>\n",
       "      <th>ID station départ</th>\n",
       "      <th>Nom station départ</th>\n",
       "      <th>CP station départ</th>\n",
       "      <th>Ville départ</th>\n",
       "      <th>Date/heure de fin de la location</th>\n",
       "      <th>ID station arrivée</th>\n",
       "      <th>Nom station arrivée</th>\n",
       "      <th>CP station arrivée</th>\n",
       "      <th>Ville arrivée</th>\n",
       "      <th>Durée location (mn)</th>\n",
       "      <th>Distance parcourue en mètres</th>\n",
       "      <th>Montant de la course en euros</th>\n",
       "    </tr>\n",
       "  </thead>\n",
       "  <tbody>\n",
       "    <tr>\n",
       "      <th>0</th>\n",
       "      <td>1,806,565,011</td>\n",
       "      <td>9.425151e+16</td>\n",
       "      <td>821238</td>\n",
       "      <td>V-Plus</td>\n",
       "      <td>21329.0</td>\n",
       "      <td>VM</td>\n",
       "      <td>3.38</td>\n",
       "      <td>7/24/2019 11:55</td>\n",
       "      <td>10025</td>\n",
       "      <td>Jemmapes - Ecluses Saint-Martin</td>\n",
       "      <td>75010</td>\n",
       "      <td>PARIS 10</td>\n",
       "      <td>7/24/2019 12:11</td>\n",
       "      <td>4104</td>\n",
       "      <td>Sebastopol - Rambuteau</td>\n",
       "      <td>75004</td>\n",
       "      <td>PARIS 04</td>\n",
       "      <td>16.48</td>\n",
       "      <td>2721</td>\n",
       "      <td>0</td>\n",
       "    </tr>\n",
       "    <tr>\n",
       "      <th>1</th>\n",
       "      <td>1,807,295,310</td>\n",
       "      <td>9.425151e+16</td>\n",
       "      <td>821238</td>\n",
       "      <td>V-Plus</td>\n",
       "      <td>195.0</td>\n",
       "      <td>VM</td>\n",
       "      <td>3.38</td>\n",
       "      <td>7/24/2019 14:14</td>\n",
       "      <td>4104</td>\n",
       "      <td>Sebastopol - Rambuteau</td>\n",
       "      <td>75004</td>\n",
       "      <td>PARIS 04</td>\n",
       "      <td>7/24/2019 14:32</td>\n",
       "      <td>10025</td>\n",
       "      <td>Jemmapes - Ecluses Saint-Martin</td>\n",
       "      <td>75010</td>\n",
       "      <td>PARIS 10</td>\n",
       "      <td>18.30</td>\n",
       "      <td>3087</td>\n",
       "      <td>0</td>\n",
       "    </tr>\n",
       "    <tr>\n",
       "      <th>2</th>\n",
       "      <td>1,843,776,641</td>\n",
       "      <td>9.425151e+16</td>\n",
       "      <td>821238</td>\n",
       "      <td>V-Plus</td>\n",
       "      <td>24339.0</td>\n",
       "      <td>VM</td>\n",
       "      <td>3.38</td>\n",
       "      <td>7/28/2019 14:20</td>\n",
       "      <td>10151</td>\n",
       "      <td>Gare du Nord - Faubourg Saint-Denis</td>\n",
       "      <td>75010</td>\n",
       "      <td>PARIS 10</td>\n",
       "      <td>7/28/2019 14:23</td>\n",
       "      <td>10026</td>\n",
       "      <td>Gare de l'Est - Chateau Landon</td>\n",
       "      <td>75010</td>\n",
       "      <td>PARIS 10</td>\n",
       "      <td>2.63</td>\n",
       "      <td>553</td>\n",
       "      <td>0</td>\n",
       "    </tr>\n",
       "    <tr>\n",
       "      <th>3</th>\n",
       "      <td>1,847,609,163</td>\n",
       "      <td>9.425151e+16</td>\n",
       "      <td>821238</td>\n",
       "      <td>V-Plus</td>\n",
       "      <td>7840.0</td>\n",
       "      <td>VM</td>\n",
       "      <td>3.38</td>\n",
       "      <td>7/29/2019 7:31</td>\n",
       "      <td>17108</td>\n",
       "      <td>Bessières - Porte de Clichy</td>\n",
       "      <td>75017</td>\n",
       "      <td>PARIS 17</td>\n",
       "      <td>7/29/2019 7:41</td>\n",
       "      <td>17023</td>\n",
       "      <td>Porte d'Asnières</td>\n",
       "      <td>75017</td>\n",
       "      <td>PARIS 17</td>\n",
       "      <td>10.11</td>\n",
       "      <td>2131</td>\n",
       "      <td>0</td>\n",
       "    </tr>\n",
       "    <tr>\n",
       "      <th>4</th>\n",
       "      <td>1,851,069,210</td>\n",
       "      <td>9.425151e+16</td>\n",
       "      <td>821238</td>\n",
       "      <td>V-Plus</td>\n",
       "      <td>22372.0</td>\n",
       "      <td>VM</td>\n",
       "      <td>3.38</td>\n",
       "      <td>7/29/2019 16:28</td>\n",
       "      <td>17108</td>\n",
       "      <td>Bessières - Porte de Clichy</td>\n",
       "      <td>75017</td>\n",
       "      <td>PARIS 17</td>\n",
       "      <td>7/29/2019 16:50</td>\n",
       "      <td>10162</td>\n",
       "      <td>Alexandre Parodi - Quai de Valmy</td>\n",
       "      <td>75010</td>\n",
       "      <td>PARIS 10</td>\n",
       "      <td>22.43</td>\n",
       "      <td>5787</td>\n",
       "      <td>0</td>\n",
       "    </tr>\n",
       "  </tbody>\n",
       "</table>\n",
       "</div>"
      ],
      "text/plain": [
       "     ID location     ID abonné  ID Abonnement Type d'abonnement  ID Vélo  \\\n",
       "0  1,806,565,011  9.425151e+16         821238            V-Plus  21329.0   \n",
       "1  1,807,295,310  9.425151e+16         821238            V-Plus    195.0   \n",
       "2  1,843,776,641  9.425151e+16         821238            V-Plus  24339.0   \n",
       "3  1,847,609,163  9.425151e+16         821238            V-Plus   7840.0   \n",
       "4  1,851,069,210  9.425151e+16         821238            V-Plus  22372.0   \n",
       "\n",
       "  Type de vélo  Version vBox Date/heure de début de la location  \\\n",
       "0           VM          3.38                    7/24/2019 11:55   \n",
       "1           VM          3.38                    7/24/2019 14:14   \n",
       "2           VM          3.38                    7/28/2019 14:20   \n",
       "3           VM          3.38                     7/29/2019 7:31   \n",
       "4           VM          3.38                    7/29/2019 16:28   \n",
       "\n",
       "   ID station départ                   Nom station départ  CP station départ  \\\n",
       "0              10025      Jemmapes - Ecluses Saint-Martin              75010   \n",
       "1               4104               Sebastopol - Rambuteau              75004   \n",
       "2              10151  Gare du Nord - Faubourg Saint-Denis              75010   \n",
       "3              17108          Bessières - Porte de Clichy              75017   \n",
       "4              17108          Bessières - Porte de Clichy              75017   \n",
       "\n",
       "  Ville départ Date/heure de fin de la location  ID station arrivée  \\\n",
       "0     PARIS 10                  7/24/2019 12:11                4104   \n",
       "1     PARIS 04                  7/24/2019 14:32               10025   \n",
       "2     PARIS 10                  7/28/2019 14:23               10026   \n",
       "3     PARIS 17                   7/29/2019 7:41               17023   \n",
       "4     PARIS 17                  7/29/2019 16:50               10162   \n",
       "\n",
       "                Nom station arrivée  CP station arrivée Ville arrivée  \\\n",
       "0            Sebastopol - Rambuteau               75004      PARIS 04   \n",
       "1   Jemmapes - Ecluses Saint-Martin               75010      PARIS 10   \n",
       "2    Gare de l'Est - Chateau Landon               75010      PARIS 10   \n",
       "3                  Porte d'Asnières               75017      PARIS 17   \n",
       "4  Alexandre Parodi - Quai de Valmy               75010      PARIS 10   \n",
       "\n",
       "   Durée location (mn)  Distance parcourue en mètres  \\\n",
       "0                16.48                          2721   \n",
       "1                18.30                          3087   \n",
       "2                 2.63                           553   \n",
       "3                10.11                          2131   \n",
       "4                22.43                          5787   \n",
       "\n",
       "   Montant de la course en euros  \n",
       "0                              0  \n",
       "1                              0  \n",
       "2                              0  \n",
       "3                              0  \n",
       "4                              0  "
      ]
     },
     "execution_count": 8,
     "metadata": {},
     "output_type": "execute_result"
    }
   ],
   "source": [
    "# Let's print the first five rows of the dataset\n",
    "data_velib.head()"
   ]
  },
  {
   "cell_type": "markdown",
   "metadata": {},
   "source": [
    "Wow, that's a lot of information ! \n",
    "\n",
    "We have 412 trips recorded in the dataset, that's quite enough for us to start our study. <br>\n",
    "There is also 20 columns describing in details every trip from the bike used to date and location from departure and arrival as well as the distance and the location duration.\n",
    "\n",
    "Some of the data is likely to be poorly relevant for our analysis (location ID or vBox version for example).\n"
   ]
  },
  {
   "cell_type": "markdown",
   "metadata": {},
   "source": [
    "#### Research Questions\n",
    "\n",
    "Lorem ipsum dolor sit amet, consectetur adipiscing elit. Donec in odio sem. Cras venenatis quam nec hendrerit laoreet. Suspendisse in odio et elit commodo aliquet. Sed libero turpis, rhoncus at finibus eu, vehicula ut est. Sed sem mi, aliquam id rhoncus quis, semper in nisi. Aliquam erat volutpat. Vestibulum auctor risus at ipsum pretium mollis. Donec non sapien et velit elementum placerat ut in orci.\n",
    "\n",
    "Pellentesque iaculis sagittis ligula. Donec aliquam sapien ac fringilla iaculis. Pellentesque imperdiet facilisis massa. Phasellus in enim eu mauris ornare egestas nec a augue. Duis sed tincidunt arcu, vitae cursus nisl. Ut at elit neque. Nunc tellus urna, consectetur non lectus at, ultricies maximus turpis. Proin sit amet odio vitae est luctus tincidunt. Curabitur semper enim nisi, ut aliquet sem condimentum non. "
   ]
  },
  {
   "cell_type": "markdown",
   "metadata": {},
   "source": [
    "#### How the Dataset Can Help Us\n",
    "\n",
    "Lorem ipsum dolor sit amet, consectetur adipiscing elit. Donec in odio sem. Cras venenatis quam nec hendrerit laoreet. Suspendisse in odio et elit commodo aliquet. Sed libero turpis, rhoncus at finibus eu, vehicula ut est. Sed sem mi, aliquam id rhoncus quis, semper in nisi. Aliquam erat volutpat. Vestibulum auctor risus at ipsum pretium mollis. Donec non sapien et velit elementum placerat ut in orci.\n",
    "\n",
    "Pellentesque iaculis sagittis ligula. Donec aliquam sapien ac fringilla iaculis. Pellentesque imperdiet facilisis massa. Phasellus in enim eu mauris ornare egestas nec a augue. Duis sed tincidunt arcu, vitae cursus nisl. Ut at elit neque. Nunc tellus urna, consectetur non lectus at, ultricies maximus turpis. Proin sit amet odio vitae est luctus tincidunt. Curabitur semper enim nisi, ut aliquet sem condimentum non. "
   ]
  },
  {
   "cell_type": "markdown",
   "metadata": {},
   "source": [
    "#### Cleaning the Data\n",
    "\n",
    "Lorem ipsum dolor sit amet, consectetur adipiscing elit. Donec in odio sem. Cras venenatis quam nec hendrerit laoreet. Suspendisse in odio et elit commodo aliquet. Sed libero turpis, rhoncus at finibus eu, vehicula ut est. Sed sem mi, aliquam id rhoncus quis, semper in nisi. Aliquam erat volutpat. Vestibulum auctor risus at ipsum pretium mollis. Donec non sapien et velit elementum placerat ut in orci.\n",
    "\n",
    "Pellentesque iaculis sagittis ligula. Donec aliquam sapien ac fringilla iaculis. Pellentesque imperdiet facilisis massa. Phasellus in enim eu mauris ornare egestas nec a augue. Duis sed tincidunt arcu, vitae cursus nisl. Ut at elit neque. Nunc tellus urna, consectetur non lectus at, ultricies maximus turpis. Proin sit amet odio vitae est luctus tincidunt. Curabitur semper enim nisi, ut aliquet sem condimentum non. "
   ]
  },
  {
   "cell_type": "markdown",
   "metadata": {},
   "source": [
    "### Diving into it"
   ]
  }
 ],
 "metadata": {
  "kernelspec": {
   "display_name": "Python 3",
   "language": "python",
   "name": "python3"
  },
  "language_info": {
   "codemirror_mode": {
    "name": "ipython",
    "version": 3
   },
   "file_extension": ".py",
   "mimetype": "text/x-python",
   "name": "python",
   "nbconvert_exporter": "python",
   "pygments_lexer": "ipython3",
   "version": "3.8.3"
  }
 },
 "nbformat": 4,
 "nbformat_minor": 4
}
